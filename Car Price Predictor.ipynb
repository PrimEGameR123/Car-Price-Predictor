{
 "cells": [
  {
   "cell_type": "code",
   "execution_count": 1,
   "id": "cd026b05",
   "metadata": {},
   "outputs": [],
   "source": [
    "import pandas as pd\n",
    "import numpy as np\n",
    "import seaborn as sns\n",
    "import matplotlib.pyplot as plt\n",
    "%matplotlib inline\n",
    "pd.pandas.set_option('display.max_columns',None)\n",
    "pd.pandas.set_option('display.max_rows',10)"
   ]
  },
  {
   "cell_type": "code",
   "execution_count": 2,
   "id": "6e38d9dc",
   "metadata": {},
   "outputs": [],
   "source": [
    "ds=pd.read_csv('Quick_car.csv')"
   ]
  },
  {
   "cell_type": "code",
   "execution_count": 3,
   "id": "34be2b2e",
   "metadata": {},
   "outputs": [
    {
     "data": {
      "text/html": [
       "<div>\n",
       "<style scoped>\n",
       "    .dataframe tbody tr th:only-of-type {\n",
       "        vertical-align: middle;\n",
       "    }\n",
       "\n",
       "    .dataframe tbody tr th {\n",
       "        vertical-align: top;\n",
       "    }\n",
       "\n",
       "    .dataframe thead th {\n",
       "        text-align: right;\n",
       "    }\n",
       "</style>\n",
       "<table border=\"1\" class=\"dataframe\">\n",
       "  <thead>\n",
       "    <tr style=\"text-align: right;\">\n",
       "      <th></th>\n",
       "      <th>name</th>\n",
       "      <th>company</th>\n",
       "      <th>year</th>\n",
       "      <th>Price</th>\n",
       "      <th>kms_driven</th>\n",
       "      <th>fuel_type</th>\n",
       "    </tr>\n",
       "  </thead>\n",
       "  <tbody>\n",
       "    <tr>\n",
       "      <th>0</th>\n",
       "      <td>Hyundai Santro Xing XO eRLX Euro III</td>\n",
       "      <td>Hyundai</td>\n",
       "      <td>2007</td>\n",
       "      <td>80,000</td>\n",
       "      <td>45,000 kms</td>\n",
       "      <td>Petrol</td>\n",
       "    </tr>\n",
       "    <tr>\n",
       "      <th>1</th>\n",
       "      <td>Mahindra Jeep CL550 MDI</td>\n",
       "      <td>Mahindra</td>\n",
       "      <td>2006</td>\n",
       "      <td>4,25,000</td>\n",
       "      <td>40 kms</td>\n",
       "      <td>Diesel</td>\n",
       "    </tr>\n",
       "    <tr>\n",
       "      <th>2</th>\n",
       "      <td>Maruti Suzuki Alto 800 Vxi</td>\n",
       "      <td>Maruti</td>\n",
       "      <td>2018</td>\n",
       "      <td>Ask For Price</td>\n",
       "      <td>22,000 kms</td>\n",
       "      <td>Petrol</td>\n",
       "    </tr>\n",
       "    <tr>\n",
       "      <th>3</th>\n",
       "      <td>Hyundai Grand i10 Magna 1.2 Kappa VTVT</td>\n",
       "      <td>Hyundai</td>\n",
       "      <td>2014</td>\n",
       "      <td>3,25,000</td>\n",
       "      <td>28,000 kms</td>\n",
       "      <td>Petrol</td>\n",
       "    </tr>\n",
       "    <tr>\n",
       "      <th>4</th>\n",
       "      <td>Ford EcoSport Titanium 1.5L TDCi</td>\n",
       "      <td>Ford</td>\n",
       "      <td>2014</td>\n",
       "      <td>5,75,000</td>\n",
       "      <td>36,000 kms</td>\n",
       "      <td>Diesel</td>\n",
       "    </tr>\n",
       "    <tr>\n",
       "      <th>...</th>\n",
       "      <td>...</td>\n",
       "      <td>...</td>\n",
       "      <td>...</td>\n",
       "      <td>...</td>\n",
       "      <td>...</td>\n",
       "      <td>...</td>\n",
       "    </tr>\n",
       "    <tr>\n",
       "      <th>887</th>\n",
       "      <td>Ta</td>\n",
       "      <td>Tara</td>\n",
       "      <td>zest</td>\n",
       "      <td>3,10,000</td>\n",
       "      <td>NaN</td>\n",
       "      <td>NaN</td>\n",
       "    </tr>\n",
       "    <tr>\n",
       "      <th>888</th>\n",
       "      <td>Tata Zest XM Diesel</td>\n",
       "      <td>Tata</td>\n",
       "      <td>2018</td>\n",
       "      <td>2,60,000</td>\n",
       "      <td>27,000 kms</td>\n",
       "      <td>Diesel</td>\n",
       "    </tr>\n",
       "    <tr>\n",
       "      <th>889</th>\n",
       "      <td>Mahindra Quanto C8</td>\n",
       "      <td>Mahindra</td>\n",
       "      <td>2013</td>\n",
       "      <td>3,90,000</td>\n",
       "      <td>40,000 kms</td>\n",
       "      <td>Diesel</td>\n",
       "    </tr>\n",
       "    <tr>\n",
       "      <th>890</th>\n",
       "      <td>Honda Amaze 1.2 E i VTEC</td>\n",
       "      <td>Honda</td>\n",
       "      <td>2014</td>\n",
       "      <td>1,80,000</td>\n",
       "      <td>Petrol</td>\n",
       "      <td>NaN</td>\n",
       "    </tr>\n",
       "    <tr>\n",
       "      <th>891</th>\n",
       "      <td>Chevrolet Sail 1.2 LT ABS</td>\n",
       "      <td>Chevrolet</td>\n",
       "      <td>2014</td>\n",
       "      <td>1,60,000</td>\n",
       "      <td>Petrol</td>\n",
       "      <td>NaN</td>\n",
       "    </tr>\n",
       "  </tbody>\n",
       "</table>\n",
       "<p>892 rows × 6 columns</p>\n",
       "</div>"
      ],
      "text/plain": [
       "                                       name    company  year          Price  \\\n",
       "0      Hyundai Santro Xing XO eRLX Euro III    Hyundai  2007         80,000   \n",
       "1                   Mahindra Jeep CL550 MDI   Mahindra  2006       4,25,000   \n",
       "2                Maruti Suzuki Alto 800 Vxi     Maruti  2018  Ask For Price   \n",
       "3    Hyundai Grand i10 Magna 1.2 Kappa VTVT    Hyundai  2014       3,25,000   \n",
       "4          Ford EcoSport Titanium 1.5L TDCi       Ford  2014       5,75,000   \n",
       "..                                      ...        ...   ...            ...   \n",
       "887                                      Ta       Tara  zest       3,10,000   \n",
       "888                     Tata Zest XM Diesel       Tata  2018       2,60,000   \n",
       "889                      Mahindra Quanto C8   Mahindra  2013       3,90,000   \n",
       "890                Honda Amaze 1.2 E i VTEC      Honda  2014       1,80,000   \n",
       "891               Chevrolet Sail 1.2 LT ABS  Chevrolet  2014       1,60,000   \n",
       "\n",
       "     kms_driven fuel_type  \n",
       "0    45,000 kms    Petrol  \n",
       "1        40 kms    Diesel  \n",
       "2    22,000 kms    Petrol  \n",
       "3    28,000 kms    Petrol  \n",
       "4    36,000 kms    Diesel  \n",
       "..          ...       ...  \n",
       "887         NaN       NaN  \n",
       "888  27,000 kms    Diesel  \n",
       "889  40,000 kms    Diesel  \n",
       "890      Petrol       NaN  \n",
       "891      Petrol       NaN  \n",
       "\n",
       "[892 rows x 6 columns]"
      ]
     },
     "execution_count": 3,
     "metadata": {},
     "output_type": "execute_result"
    }
   ],
   "source": [
    "ds.head(1000)"
   ]
  },
  {
   "cell_type": "code",
   "execution_count": 4,
   "id": "33625015",
   "metadata": {},
   "outputs": [
    {
     "name": "stdout",
     "output_type": "stream",
     "text": [
      "<class 'pandas.core.frame.DataFrame'>\n",
      "RangeIndex: 892 entries, 0 to 891\n",
      "Data columns (total 6 columns):\n",
      " #   Column      Non-Null Count  Dtype \n",
      "---  ------      --------------  ----- \n",
      " 0   name        892 non-null    object\n",
      " 1   company     892 non-null    object\n",
      " 2   year        892 non-null    object\n",
      " 3   Price       892 non-null    object\n",
      " 4   kms_driven  840 non-null    object\n",
      " 5   fuel_type   837 non-null    object\n",
      "dtypes: object(6)\n",
      "memory usage: 41.9+ KB\n"
     ]
    }
   ],
   "source": [
    "ds.info()"
   ]
  },
  {
   "cell_type": "code",
   "execution_count": 5,
   "id": "90f1ec50",
   "metadata": {},
   "outputs": [
    {
     "data": {
      "text/plain": [
       "array(['Hyundai Santro Xing XO eRLX Euro III', 'Mahindra Jeep CL550 MDI',\n",
       "       'Maruti Suzuki Alto 800 Vxi',\n",
       "       'Hyundai Grand i10 Magna 1.2 Kappa VTVT',\n",
       "       'Ford EcoSport Titanium 1.5L TDCi', 'Ford Figo', 'Hyundai Eon',\n",
       "       'Ford EcoSport Ambiente 1.5L TDCi',\n",
       "       'Maruti Suzuki Alto K10 VXi AMT', 'Skoda Fabia Classic 1.2 MPI',\n",
       "       'Maruti Suzuki Stingray VXi', 'Hyundai Elite i20 Magna 1.2',\n",
       "       'Mahindra Scorpio SLE BS IV', 'Audi A8', 'Audi Q7',\n",
       "       'Mahindra Scorpio S10', 'Maruti Suzuki Alto 800',\n",
       "       'Hyundai i20 Sportz 1.2', 'Maruti Suzuki Alto 800 Lx',\n",
       "       'Maruti Suzuki Vitara Brezza ZDi', 'Maruti Suzuki Alto LX',\n",
       "       'Mahindra Bolero DI', 'Maruti Suzuki Swift Dzire ZDi',\n",
       "       'Mahindra Scorpio S10 4WD', 'Maruti Suzuki Swift Vdi BSIII',\n",
       "       'Maruti Suzuki Wagon R VXi BS III',\n",
       "       'Maruti Suzuki Wagon R VXi Minor',\n",
       "       'Toyota Innova 2.0 G 8 STR BS IV', 'Renault Lodgy 85 PS RXL',\n",
       "       'Skoda Yeti Ambition 2.0 TDI CR 4x2',\n",
       "       'Maruti Suzuki Baleno Delta 1.2',\n",
       "       'Renault Duster 110 PS RxZ Diesel Plus',\n",
       "       'Renault Duster 85 PS RxE Diesel', 'Honda City 1.5 S MT',\n",
       "       'Maruti Suzuki Dzire', 'Honda Amaze', 'Honda Amaze 1.5 SX i DTEC',\n",
       "       'Honda City', 'Datsun Redi GO S', 'Maruti Suzuki SX4 ZXI MT',\n",
       "       'Mitsubishi Pajero Sport Limited Edition',\n",
       "       'Maruti Suzuki Swift VXi 1.2 ABS BS IV', 'Honda City ZX CVT',\n",
       "       'Maruti Suzuki Wagon R LX BS IV', 'Tata Indigo eCS LS CR4 BS IV',\n",
       "       'Volkswagen Polo Highline Exquisite P',\n",
       "       'I want to sell my car Tata Zest', 'Chevrolet Spark LS 1.0',\n",
       "       'Renault Duster 110PS Diesel RxZ', 'Mini Cooper S 1.6',\n",
       "       'Skoda Fabia 1.2L Diesel Ambiente', 'Renault Duster',\n",
       "       'Mahindra Scorpio S4', 'Mahindra Scorpio VLX 2WD BS IV',\n",
       "       'Mahindra Quanto C8', 'Ford EcoSport', 'Honda Brio',\n",
       "       'Volkswagen Vento Highline Plus 1.5 Diesel AT',\n",
       "       'Hyundai i20 Magna', 'Toyota Corolla Altis Diesel D4DG',\n",
       "       'Hyundai Verna Transform SX VTVT',\n",
       "       'Toyota Corolla Altis Petrol Ltd', 'Honda City 1.5 EXi New',\n",
       "       'Skoda Fabia 1.2L Diesel Elegance', 'BMW 3 Series 320i',\n",
       "       'Maruti Suzuki A Star Lxi', 'Toyota Etios GD',\n",
       "       'Ford Figo Diesel EXI Option',\n",
       "       'Maruti Suzuki Swift Dzire VXi 1.2 BS IV',\n",
       "       'Chevrolet Beat LT Diesel', 'BMW 7 Series 740Li Sedan',\n",
       "       'Mahindra XUV500 W8 AWD 2013', 'Hyundai i10 Magna 1.2',\n",
       "       'Hyundai Verna Fluidic New', 'Maruti Suzuki Swift VXi 1.2 BS IV',\n",
       "       'Maruti Suzuki Ertiga ZXI Plus', 'Maruti Suzuki Ertiga Vxi',\n",
       "       'Maruti Suzuki Ertiga VDi', 'Maruti Suzuki Alto LXi BS III',\n",
       "       'Hyundai Grand i10 Asta 1.1 CRDi', 'Honda Amaze 1.2 S i VTEC',\n",
       "       'Hyundai i20 Asta 1.4 CRDI 6 Speed', 'Ford Figo Diesel EXI',\n",
       "       'Maruti Suzuki Eeco 5 STR WITH AC HTR', 'Maruti Suzuki Ertiga ZXi',\n",
       "       'Maruti Suzuki Esteem LXi BS III', 'Maruti Suzuki Ritz VXI',\n",
       "       'Maruti Suzuki Ritz LDi', 'Maruti Suzuki Dzire VDI',\n",
       "       'Toyota Etios Liva G', 'Hyundai i20 Sportz 1.4 CRDI',\n",
       "       'Chevrolet Spark', 'Nissan Micra XV', 'Maruti Suzuki Swift',\n",
       "       'Honda Amaze 1.5 S i DTEC', 'Chevrolet Beat', 'Toyota Corolla',\n",
       "       'Honda City 1.5 V MT', 'Ford EcoSport Trend 1.5L TDCi',\n",
       "       'Hyundai i20 Asta 1.2', 'Tata Indica V2 eLS',\n",
       "       'Maruti Suzuki Alto 800 Lxi', 'Hindustan Motors Ambassador',\n",
       "       'Toyota Corolla Altis 1.8 GL', 'Toyota Corolla Altis 1.8 J',\n",
       "       'Toyota Innova 2.5 GX BS IV 7 STR',\n",
       "       'Volkswagen Jetta Highline TDI AT',\n",
       "       'Volkswagen Polo Comfortline 1.2L P', 'Volkswagen Polo',\n",
       "       'Mahindra Scorpio', 'Nissan Sunny', 'Hyundai Elite i20',\n",
       "       'Renault Kwid', 'Mahindra Scorpio VLX Airbag',\n",
       "       'Chevrolet Spark LT 1.0', 'Datsun Redi GO T O',\n",
       "       'Maruti Suzuki Swift RS VDI', 'Fiat Punto Emotion 1.2',\n",
       "       'Hyundai i10 Sportz 1.2', 'Chevrolet Beat LT Opt Diesel',\n",
       "       'Chevrolet Beat LS Diesel', 'Tata Indigo CS',\n",
       "       'Maruti Suzuki Swift VDi', 'Hyundai Eon Era Plus',\n",
       "       'Mahindra XUV500', 'Ford Fiesta', 'Maruti Suzuki Wagon R',\n",
       "       'Hyundai i20', 'Tata Indigo eCS LX TDI BS III',\n",
       "       'Hyundai Fluidic Verna 1.6 CRDi SX',\n",
       "       'Commercial , DZire LDI, 2016, for sale', 'Fiat Petra ELX 1.2 PS',\n",
       "       'Hyundai Santro Xing XS', 'Maruti Suzuki Ciaz VXi Plus',\n",
       "       'Maruti Suzuki Zen VX', 'Hyundai Creta 1.6 SX Plus Petrol',\n",
       "       'Tata indigo ecs LX, 201', 'Mahindra Scorpio SLX',\n",
       "       'Toyota Innova 2.5 G BS III 8 STR',\n",
       "       'Maruti Suzuki Wagon R LXI BS IV', 'Tata Nano Cx BSIV',\n",
       "       'Maruti Suzuki Alto Std BS IV', 'Maruti Suzuki Wagon R LXi BS III',\n",
       "       'Maruti Suzuki Swift VXI BSIII',\n",
       "       'Tata Sumo Victa EX 10 by 7 Str BSIII', 'MARUTI SUZUKI DESI',\n",
       "       'Volkswagen Passat Diesel Comfortline AT',\n",
       "       'Renault Scala RxL Diesel Travelogue',\n",
       "       'Hyundai Grand i10 Sportz O 1.2 Kappa VTVT',\n",
       "       'Hyundai i20 Active 1.2 SX', 'Mahindra Xylo E4',\n",
       "       'Mahindra Jeep MM 550 XDB', 'Mahindra Bolero SLE BS IV',\n",
       "       'Force Motors Force One LX ABS 7 STR', 'Maruti Suzuki SX4',\n",
       "       'Toyota Etios', 'Honda City ZX VTEC',\n",
       "       'Maruti Suzuki Wagon R LX BS III', 'Honda City VX O MT Diesel',\n",
       "       'Mahindra Thar CRDe 4x4 AC',\n",
       "       'Audi A4 1.8 TFSI Multitronic Premium Plus',\n",
       "       'Mercedes Benz GLA Class 200 CDI Sport',\n",
       "       'Land Rover Freelander 2 SE', 'Renault Kwid RXT',\n",
       "       'Tata Aria Pleasure 4X2', 'Mercedes Benz B Class B180 Sports',\n",
       "       'Datsun GO T O', 'Honda Jazz VX MT',\n",
       "       'Hyundai i20 Active 1.4L SX O', 'Mini Cooper S',\n",
       "       'Maruti Suzuki Ciaz ZXI Plus', 'Chevrolet Tavera Neo',\n",
       "       'Hyundai Eon Sportz', 'Tata Sumo Gold Select Variant',\n",
       "       'Maruti Suzuki Wagon R 1.0', 'Maruti Suzuki Esteem VXi BS III',\n",
       "       'Chevrolet Enjoy 1.4 LS 8 STR', 'Maruti Suzuki Wagon R 1.0 VXi',\n",
       "       'Nissan Terrano XL D Plus', 'Renault Duster 85 PS RxL Diesel',\n",
       "       'Maruti Suzuki Dzire ZXI', 'Renault Kwid RXT Opt',\n",
       "       'Maruti Suzuki Maruti 800 Std', 'Renault Kwid 1.0 RXT AMT',\n",
       "       'Renault Scala RxL Diesel',\n",
       "       'Hyundai Grand i10 Asta 1.2 Kappa VTVT O',\n",
       "       'Chevrolet Beat LS Petrol', 'Hyundai Accent GLX', 'Yama',\n",
       "       'Maruti Suzuki Swift LDi', 'Mahindra TUV300 T4 Plus',\n",
       "       'Tata Indica V2 Xeta e GLE', 'Tata Indigo CS LS DiCOR',\n",
       "       'Mahindra Scorpio VLX Special Edition BS III',\n",
       "       'Tata Indica eV2 LS', 'Honda Accord',\n",
       "       'Ford EcoSport Titanium 1.5 TDCi', 'Maruti Suzuki Ertiga',\n",
       "       'Mahindra Scorpio 2.6 CRDe', 'Honda Mobilio',\n",
       "       'Toyota Corolla Altis', 'Skoda Laura', 'Hyundai Verna Fluidic',\n",
       "       'Maruti Suzuki Vitara Brezza', 'Tata Manza Aura Quadrajet',\n",
       "       'Chevrolet Sail UVA Petrol LT ABS',\n",
       "       'Hyundai Verna Fluidic 1.6 VTVT SX',\n",
       "       'Audi A4 2.0 TDI 177bhp Premium', 'Hyundai Elantra SX',\n",
       "       'Mahindra Scorpio VLX 4WD Airbag', 'Mahindra KUV100 K8 D 6 STR',\n",
       "       'Hyundai Grand i10', 'Hyundai i10', 'Hyundai i20 Active',\n",
       "       'Datsun Redi GO', 'Toyota Etios Liva', 'Hyundai Accent',\n",
       "       'Hyundai Verna', 'Toyota Fortuner', 'Hyundai i10 Sportz',\n",
       "       'Mahindra Bolero Power Plus SLE', 'selling car Ta',\n",
       "       'Honda City 1.5 V MT Exclusive', 'Chevrolet Spark LT 1.0 Airbag',\n",
       "       'Tata Indigo eCS VX CR4 BS IV', 'Tata Zest 90',\n",
       "       'Skoda Rapid Elegance 1.6 TDI CR MT', 'Tata Vista Quadrajet VX',\n",
       "       'Maruti Suzuki Alto K10 VXi AT', 'Maruti Suzuki Zen LXi BS III',\n",
       "       'Maruti Suzuki Swift Dzire Tour LDi', 'Honda City ZX EXi',\n",
       "       'Chevrolet Beat Diesel', 'Maruti Suzuki Swift Dzire car',\n",
       "       'Hyundai Verna 1.4 VTVT', 'Toyota Innova 2.5 E MS 7 STR BS IV',\n",
       "       'Maruti Suzuki Maruti 800 Std – Befo',\n",
       "       'Hyundai Elite i20 Asta 1.4 CRDI',\n",
       "       'Maruti Suzuki Swift Dzire Tour (Gat',\n",
       "       'Maruti Suzuki Versa DX2 8 SEATER BSIII',\n",
       "       'Tata Indigo LX TDI BS III',\n",
       "       'Volkswagen Vento Konekt Diesel Highline',\n",
       "       'Mercedes Benz C Class 200 CDI Classic', 'URJE',\n",
       "       'Hyundai Santro Xing GLS', 'Maruti Suzuki Omni Limited Edition',\n",
       "       'Hyundai Sonata Transform 2.4 GDi MT',\n",
       "       'Hyundai Elite i20 Sportz 1.2', 'Honda Jazz S MT',\n",
       "       'Hyundai Grand i10 Sportz 1.2 Kappa VTVT',\n",
       "       'Maruti Suzuki Zen LXi BSII',\n",
       "       'Mahindra Scorpio W Turbo 2.6DX 9 Seater',\n",
       "       'Swift Dzire Tour 27 Dec 2016 Regis', 'Maruti Suzuki Alto K10 VXi',\n",
       "       'Hyundai Grand i10 Asta 1.2 Kappa VTVT', 'Mahindra XUV500 W8',\n",
       "       'Hyundai i20 Magna O 1.2', 'Renault Duster 85 PS RxL Explore LE',\n",
       "       'Honda Brio V MT', 'Mahindra TUV300 T8',\n",
       "       'Nissan X Trail Select Variant', 'Ford Ikon 1.3 CLXi NXt Finesse',\n",
       "       'Toyota Fortuner 3.0 4x4 MT', 'Tata Manza ELAN Quadrajet',\n",
       "       'Tata zest x', 'Mahindra xyl',\n",
       "       'Mercedes Benz A Class A 180 Sport Petrol', 'Tata Indigo LS',\n",
       "       'Hyundai i20 Magna 1.2', 'Used Commercial Maruti Omn',\n",
       "       'Honda Amaze 1.5 E i DTEC', 'Hyundai Verna 1.6 EX VTVT',\n",
       "       'BMW 5 Series 520d Sedan', 'Skoda Superb 1.8 TFSI AT',\n",
       "       'Audi Q3 2.0 TDI quattro Premium', 'Mahindra Bolero DI BSII',\n",
       "       'Maruti Suzuki Zen Estilo LXI Green CNG',\n",
       "       'Ford Figo Duratorq Diesel Titanium 1.4',\n",
       "       'Maruti Suzuki Wagon R VXI BS IV', 'Mahindra Logan Diesel 1.5 DLS',\n",
       "       'Tata Nano GenX XMA', 'Honda City SV', 'Ford Figo Petrol LXI',\n",
       "       'Hyundai i10 Magna 1.2 Kappa2', 'Toyota Corolla H2',\n",
       "       'Maruti Suzuki Swift Dzire Tour VXi', 'Tata Indigo CS eLS BS IV',\n",
       "       'Hyundai Xcent Base 1.1 CRDi', 'Hyundai Accent Executive Edition',\n",
       "       'Tata Zest XE 75 PS Diesel', 'Maruti Suzuki Dzire LDI',\n",
       "       'Tata Sumo Gold LX BS IV', 'Toyota Corolla Altis GL Petrol',\n",
       "       'Maruti Suzuki Eeco 7 STR', 'Toyota Fortuner 3.0 4x2 MT',\n",
       "       'Mahindra XUV500 W6', 'Tata Tigor Revotron XZ',\n",
       "       'Maruti Suzuki 800', 'Honda Mobilio S i DTEC',\n",
       "       'Hyundai Verna 1.6 CRDI E', 'Maruti Suzuki Omni Select Variant',\n",
       "       'Tata Indica', 'Hyundai Santro Xing', 'Maruti Suzuki Zen Estilo',\n",
       "       'Honda Brio VX AT', 'Maruti Suzuki Wagon R Select Variant',\n",
       "       'Tata Nano Lx BSIV', 'Jaguar XE XE Portfolio',\n",
       "       'Hyundai Xcent S 1.2', 'Hyundai Eon Magna Plus',\n",
       "       'Maruti Suzuki Ritz GENUS VXI',\n",
       "       'Hyundai Grand i10 Magna AT 1.2 Kappa VTVT',\n",
       "       'Hyundai Eon D Lite Plus', 'Honda Amaze 1.2 VX i VTEC',\n",
       "       'Maruti Suzuki Estilo VXi ABS BS IV',\n",
       "       'Maruti Suzuki Vitara Brezza LDi O', 'Toyota Innova 2.0 V',\n",
       "       'Hyundai Creta 1.6 SX Plus Petrol AT', 'Mahindra Scorpio Vlx BSIV',\n",
       "       'Mitsubishi Lancer 1.8 LXi', 'Maruti Suzuki Maruti 800 AC',\n",
       "       'Maruti Suzuki Alto 800 LXI CNG O', 'Ford Fiesta SXi 1.6 ABS',\n",
       "       'Maruti Suzuki Ritz VDi', 'Maruti Suzuki Estilo LX BS IV',\n",
       "       'Audi A6 2.0 TDI Premium', 'Maruti Suzuki Alto',\n",
       "       'Maruti Suzuki Baleno Sigma 1.2', 'Hyundai Verna 1.6 SX VTVT AT',\n",
       "       'Maruti Suzuki Swift GLAM', 'Hyundai Getz Prime 1.3 GVS',\n",
       "       'Hyundai Santro', 'Hyundai Getz Prime 1.3 GLX',\n",
       "       'Chevrolet Beat PS Diesel', 'Ford EcoSport Trend 1.5 Ti VCT',\n",
       "       'Tata Indica V2 DLG', 'BMW X1 xDrive20d xLine',\n",
       "       'Honda City 1.5 V AT', 'Tata Nano', 'Chevrolet Cruze LTZ AT',\n",
       "       'Hyun', 'Maruti Suzuki Swift Dzire VDi', 'Mahindra XUV500 W10',\n",
       "       'Maruti Suzuki Alto K10 LXi CNG', 'Hyundai Accent GLE',\n",
       "       'Force Motors One SUV', 'Datsun Go Plus T O',\n",
       "       'Chevrolet Spark 1.0 LT', 'Toyota Etios Liva GD',\n",
       "       'Renault Duster 85PS Diesel RxL Optional with Nav',\n",
       "       'Chevrolet Enjoy', 'BMW 5 Series 530i', 'Chevrolet Cruze LTZ',\n",
       "       'Jeep Wrangler Unlimited 4x4 Diesel',\n",
       "       'Hyundai Verna VGT CRDi SX ABS', 'Maruti Suzuki Omni',\n",
       "       'Maruti Suzuki Celerio VDi', 'Tata Zest Quadrajet 1.3',\n",
       "       'Tata Indigo CS eLX BS IV', 'Hyundai i10 Era',\n",
       "       'Tata Indigo eCS LX CR4 BS IV', 'Tata Indigo Marina LS',\n",
       "       'Commercial Chevrolet Sail Hatchback ca', 'Hyundai Xcent SX 1.2',\n",
       "       'Tata Nano LX Special Edition', 'Commercial Car Ta',\n",
       "       'Renault Duster 110 PS RxZ Diesel',\n",
       "       'Maruti Suzuki Wagon R AX BSIV', 'Maruti Suzuki Alto K10 New',\n",
       "       'tata Indica', 'Mahindra Xylo E8', 'Tata Manza Aqua Quadrajet',\n",
       "       'Used bt new conditions ta', 'Renault Kwid 1.0', 'Sale tata',\n",
       "       'Tata Venture EX 8 STR', 'Maruti Suzuki Swift Dzire Tour LXi',\n",
       "       'Maruti Suzuki Alto LX BSII', 'Skoda Octavia Classic 1.9 TDI MT',\n",
       "       'Maruti Suzuki Omni LPG BS IV', 'Tata Sumo Gold EX BS IV',\n",
       "       'Tata indigo 2017 top model..', 'Hyundai Verna 1.6 CRDI SX',\n",
       "       'Mahindra Scorpio SLX 2.6 Turbo 8 Str', 'Ford Ikon 1.6 Nxt',\n",
       "       'Tata indigo', 'Toyota Innova 2.5 V 7 STR', 'Nissan Sunny XL',\n",
       "       'Maruti Suzuki Swift VDi BS IV',\n",
       "       'very good condition tata bolts are av', 'Toyota Innova 2.0 G4',\n",
       "       'Sale Hyundai xcent commerc', 'Maruti Suzuki Swift VDi ABS',\n",
       "       'Hyundai Elite i20 Asta 1.2', 'Volkswagen Polo Trendline 1.5L D',\n",
       "       'Toyota Etios Liva Diesel', 'Maruti Suzuki Ciaz ZXi Plus RS',\n",
       "       'Hyundai Elantra 1.8 S', 'Ford EcoSport Trend 1.5L Ti VCT',\n",
       "       'Jaguar XF 2.2 Diesel Luxury',\n",
       "       'Audi Q5 2.0 TDI quattro Premium Plus', 'BMW 3 Series 320d Sedan',\n",
       "       'Maruti Suzuki Swift ZXi 1.2 BS IV', 'BMW X1 sDrive20d',\n",
       "       'Maruti Suzuki S Cross Sigma 1.3', 'Maruti Suzuki Ertiga LDi',\n",
       "       'Volkswagen Vento Comfortline Petrol', 'Mahindra KUV100',\n",
       "       'Maruti Suzuki Swift Dzire Tour VDi', 'Mahindra Scorpio 2.6 SLX',\n",
       "       'Maruti Suzuki Omni 8 STR BS III',\n",
       "       'Volkswagen Jetta Comfortline 1.9 TDI AT', 'Volvo S80 Summum D4',\n",
       "       'Toyota Corolla Altis VL AT Petrol',\n",
       "       'Mitsubishi Pajero Sport 2.5 AT', 'Chevrolet Beat LT Petrol',\n",
       "       'BMW X1', 'Mercedes Benz C Class C 220 CDI Avantgarde',\n",
       "       'Volkswagen Vento Comfortline Diesel', 'Tata Indigo CS GLS',\n",
       "       'Ford Figo Petrol Titanium', 'Honda City ZX GXi',\n",
       "       'Maruti Suzuki Wagon R Duo Lxi', 'Maruti Suzuki Zen LX BSII',\n",
       "       'Renault Duster RxL Petrol', 'Maruti Suzuki Baleno Zeta 1.2',\n",
       "       'Honda WR V S MT Petrol', 'Renault Duster 110 PS RxL Diesel',\n",
       "       'Mahindra Scorpio LX BS III',\n",
       "       'Maruti Suzuki SX4 Celebration Diesel',\n",
       "       'Audi A3 Cabriolet 40 TFSI',\n",
       "       'I want to sell my commercial car due t',\n",
       "       'Hyundai Santro AE GLS Audio',\n",
       "       'i want sale my car.no emi....uber atta', 'Tata ZEST 6 month old',\n",
       "       'Mahindra Xylo D2 BS IV', 'Hyundai Getz GLE',\n",
       "       'Hyundai Creta 1.6 SX', 'Hyundai Santro Xing XL AT eRLX Euro III',\n",
       "       'Hyundai Santro Xing XL eRLX Euro III',\n",
       "       'Tata Indica V2 DLS BS III', 'Honda City 1.5 E MT',\n",
       "       'Nissan Micra XL', 'Honda City 1.5 S Inspire',\n",
       "       'Tata Indica eV2 eXeta eGLX', 'Maruti Suzuki Omni E 8 STR BS IV',\n",
       "       'MARUTI SUZUKI ERTIGA F', 'Hyundai Verna 1.6 CRDI SX Plus AT',\n",
       "       'Chevrolet Tavera LS B3 10 Seats BSII', 'Tata Tiago Revotron XM',\n",
       "       'Tata Tiago Revotorq XZ', 'Tata Nexon', 'Tata',\n",
       "       'Hindustan Motors Ambassador Classic Mark 4 – Befo',\n",
       "       'Ford Fusion 1.4 TDCi Diesel',\n",
       "       'Fiat Linea Emotion 1.4 L T Jet Petrol',\n",
       "       'Ford Ikon 1.3 Flair Josh 100', 'Tata Indica V2 LS',\n",
       "       'Mahindra Xylo D2', 'Hyundai Eon Magna',\n",
       "       'Tata Sumo Grande MKII GX', 'Volkswagen Polo Highline1.2L P',\n",
       "       'Tata Tiago Revotron XZ', 'Tata Indigo eCS',\n",
       "       '2012 Tata Sumo Gold f', 'Mahindra Xylo E8 BS IV',\n",
       "       'Well mentained Tata Sumo',\n",
       "       'all paper updated tata indica v2 and u',\n",
       "       'Maruti Ertiga showroom condition with',\n",
       "       '7 SEATER MAHINDRA BOLERO IN VERY GOOD', '9 SEATER MAHINDRA BOL',\n",
       "       'scratch less Tata I', 'Maruti Suzuki swift dzire for sale in',\n",
       "       'Commercial Chevrolet beat for sale in',\n",
       "       'urgent sell my Mahindra qu', 'Tata Sumo Gold FX BSIII',\n",
       "       'sell my car Maruti Suzuki Swif',\n",
       "       'Maruti Suzuki Swift Dzire good car fo', 'Hyunda',\n",
       "       'Commercial Maruti Suzuki Alto Lxi 800', 'urgent sale Ta',\n",
       "       'Maruti Suzuki Alto vxi t', 'tata', 'TATA INDI', 'Hyundai Creta',\n",
       "       'Tata Bolt XM Petrol', 'Hyundai Venue', 'Maruti Suzuki Ritz',\n",
       "       'Renault Lodgy', 'Hyundai i20 Asta',\n",
       "       'Maruti Suzuki Swift Select Variant', 'Tata Indica V2 DLX BS III',\n",
       "       'Mahindra Scorpio VLX 2.2 mHawk Airbag BSIV',\n",
       "       'Toyota Innova 2.5 E 8 STR', 'Mahindra KUV100 K8 6 STR',\n",
       "       'Datsun Go Plus', 'Ford Endeavor 4x4 Thunder Plus',\n",
       "       'Tata Indica V2', 'Hyundai Santro Xing GL',\n",
       "       'Toyota Innova 2.5 Z Diesel 7 Seater',\n",
       "       'Any type car avaiabel hare...comercica', 'Maruti Suzuki Alto AX',\n",
       "       'Mahindra Logan', 'Maruti Suzuki 800 Std BS III',\n",
       "       'Chevrolet Sail 1.2 LS',\n",
       "       'Volkswagen Vento Highline Plus 1.5 Diesel', 'Tata Manza',\n",
       "       'Toyota Innova 2.0 G1 Petrol 8seater', 'Toyota Etios G',\n",
       "       'Toyota Qualis', 'Mahindra Quanto C4', 'Maruti Suzuki Swift Dzire',\n",
       "       'Hyundai i20 Select Variant', 'Honda City VX Petrol',\n",
       "       'Hyundai Getz', 'Mercedes Benz C Class 200 K MT', 'Skoda Fabia',\n",
       "       'Maruti Suzuki Alto 800 Select Variant',\n",
       "       'Maruti Suzuki Ritz VXI ABS', 'tata zest 2017 f',\n",
       "       'Tata Indica V2 DLE BS III', 'Ta', 'Tata Zest XM Diesel',\n",
       "       'Honda Amaze 1.2 E i VTEC', 'Chevrolet Sail 1.2 LT ABS'],\n",
       "      dtype=object)"
      ]
     },
     "execution_count": 5,
     "metadata": {},
     "output_type": "execute_result"
    }
   ],
   "source": [
    "ds['name'].unique()"
   ]
  },
  {
   "cell_type": "code",
   "execution_count": 6,
   "id": "d8117ae7",
   "metadata": {},
   "outputs": [],
   "source": [
    "# year has many no year values. It must be from obj to int.\n",
    "# Price has ask for price, and need to be in int.\n",
    "# kms_driven has kms along with integers, a nan value and some string also, need to be in int.\n",
    "# fuel_type has nan value.\n",
    "# name column has error, as it has version along with it. it is neither categorical nor usable for model in this form.\n",
    "## so we are keeping only first three words of name."
   ]
  },
  {
   "cell_type": "code",
   "execution_count": 7,
   "id": "24e8d409",
   "metadata": {},
   "outputs": [],
   "source": [
    "# removing the data which has year as str and converting the column into int.\n",
    "ds=ds[ds['year'].str.isnumeric()]\n",
    "ds['year']=ds['year'].astype(int)"
   ]
  },
  {
   "cell_type": "code",
   "execution_count": 8,
   "id": "e932b500",
   "metadata": {
    "scrolled": true
   },
   "outputs": [],
   "source": [
    "# now we need to remove ask for price from the price column and convert it into int by removing commas.\n",
    "ds=ds[ds['Price']!='Ask For Price']\n",
    "ds['Price']=ds['Price'].str.replace(',','').astype(int)\n"
   ]
  },
  {
   "cell_type": "code",
   "execution_count": 9,
   "id": "e312d6ce",
   "metadata": {},
   "outputs": [],
   "source": [
    "# cleaning kms_driven\n",
    "ds['kms_driven']=ds['kms_driven'].str.split(' ').str.get(0).str.replace(',','')\n",
    "ds=ds[ds['kms_driven'].str.isnumeric()]\n",
    "ds['kms_driven']=ds['kms_driven'].astype(int)"
   ]
  },
  {
   "cell_type": "code",
   "execution_count": 10,
   "id": "d6d3d3a7",
   "metadata": {},
   "outputs": [],
   "source": [
    "ds=ds[~ds['fuel_type'].isna()]"
   ]
  },
  {
   "cell_type": "code",
   "execution_count": 11,
   "id": "bbc466d9",
   "metadata": {},
   "outputs": [],
   "source": [
    "# in the name, we need only first 3 words. So, splitting them, then slicing & joining\n",
    "ds['name']=ds['name'].str.split(' ').str.slice(0,3).str.join(' ')"
   ]
  },
  {
   "cell_type": "code",
   "execution_count": 12,
   "id": "a16c5052",
   "metadata": {
    "scrolled": false
   },
   "outputs": [],
   "source": [
    "ds=ds.reset_index(drop=True)"
   ]
  },
  {
   "cell_type": "code",
   "execution_count": 13,
   "id": "3827b52c",
   "metadata": {},
   "outputs": [
    {
     "data": {
      "text/html": [
       "<div>\n",
       "<style scoped>\n",
       "    .dataframe tbody tr th:only-of-type {\n",
       "        vertical-align: middle;\n",
       "    }\n",
       "\n",
       "    .dataframe tbody tr th {\n",
       "        vertical-align: top;\n",
       "    }\n",
       "\n",
       "    .dataframe thead th {\n",
       "        text-align: right;\n",
       "    }\n",
       "</style>\n",
       "<table border=\"1\" class=\"dataframe\">\n",
       "  <thead>\n",
       "    <tr style=\"text-align: right;\">\n",
       "      <th></th>\n",
       "      <th>name</th>\n",
       "      <th>company</th>\n",
       "      <th>year</th>\n",
       "      <th>Price</th>\n",
       "      <th>kms_driven</th>\n",
       "      <th>fuel_type</th>\n",
       "    </tr>\n",
       "  </thead>\n",
       "  <tbody>\n",
       "    <tr>\n",
       "      <th>0</th>\n",
       "      <td>Hyundai Santro Xing</td>\n",
       "      <td>Hyundai</td>\n",
       "      <td>2007</td>\n",
       "      <td>80000</td>\n",
       "      <td>45000</td>\n",
       "      <td>Petrol</td>\n",
       "    </tr>\n",
       "    <tr>\n",
       "      <th>1</th>\n",
       "      <td>Mahindra Jeep CL550</td>\n",
       "      <td>Mahindra</td>\n",
       "      <td>2006</td>\n",
       "      <td>425000</td>\n",
       "      <td>40</td>\n",
       "      <td>Diesel</td>\n",
       "    </tr>\n",
       "    <tr>\n",
       "      <th>2</th>\n",
       "      <td>Hyundai Grand i10</td>\n",
       "      <td>Hyundai</td>\n",
       "      <td>2014</td>\n",
       "      <td>325000</td>\n",
       "      <td>28000</td>\n",
       "      <td>Petrol</td>\n",
       "    </tr>\n",
       "    <tr>\n",
       "      <th>3</th>\n",
       "      <td>Ford EcoSport Titanium</td>\n",
       "      <td>Ford</td>\n",
       "      <td>2014</td>\n",
       "      <td>575000</td>\n",
       "      <td>36000</td>\n",
       "      <td>Diesel</td>\n",
       "    </tr>\n",
       "    <tr>\n",
       "      <th>4</th>\n",
       "      <td>Ford Figo</td>\n",
       "      <td>Ford</td>\n",
       "      <td>2012</td>\n",
       "      <td>175000</td>\n",
       "      <td>41000</td>\n",
       "      <td>Diesel</td>\n",
       "    </tr>\n",
       "    <tr>\n",
       "      <th>...</th>\n",
       "      <td>...</td>\n",
       "      <td>...</td>\n",
       "      <td>...</td>\n",
       "      <td>...</td>\n",
       "      <td>...</td>\n",
       "      <td>...</td>\n",
       "    </tr>\n",
       "    <tr>\n",
       "      <th>811</th>\n",
       "      <td>Maruti Suzuki Ritz</td>\n",
       "      <td>Maruti</td>\n",
       "      <td>2011</td>\n",
       "      <td>270000</td>\n",
       "      <td>50000</td>\n",
       "      <td>Petrol</td>\n",
       "    </tr>\n",
       "    <tr>\n",
       "      <th>812</th>\n",
       "      <td>Tata Indica V2</td>\n",
       "      <td>Tata</td>\n",
       "      <td>2009</td>\n",
       "      <td>110000</td>\n",
       "      <td>30000</td>\n",
       "      <td>Diesel</td>\n",
       "    </tr>\n",
       "    <tr>\n",
       "      <th>813</th>\n",
       "      <td>Toyota Corolla Altis</td>\n",
       "      <td>Toyota</td>\n",
       "      <td>2009</td>\n",
       "      <td>300000</td>\n",
       "      <td>132000</td>\n",
       "      <td>Petrol</td>\n",
       "    </tr>\n",
       "    <tr>\n",
       "      <th>814</th>\n",
       "      <td>Tata Zest XM</td>\n",
       "      <td>Tata</td>\n",
       "      <td>2018</td>\n",
       "      <td>260000</td>\n",
       "      <td>27000</td>\n",
       "      <td>Diesel</td>\n",
       "    </tr>\n",
       "    <tr>\n",
       "      <th>815</th>\n",
       "      <td>Mahindra Quanto C8</td>\n",
       "      <td>Mahindra</td>\n",
       "      <td>2013</td>\n",
       "      <td>390000</td>\n",
       "      <td>40000</td>\n",
       "      <td>Diesel</td>\n",
       "    </tr>\n",
       "  </tbody>\n",
       "</table>\n",
       "<p>816 rows × 6 columns</p>\n",
       "</div>"
      ],
      "text/plain": [
       "                       name   company  year   Price  kms_driven fuel_type\n",
       "0       Hyundai Santro Xing   Hyundai  2007   80000       45000    Petrol\n",
       "1       Mahindra Jeep CL550  Mahindra  2006  425000          40    Diesel\n",
       "2         Hyundai Grand i10   Hyundai  2014  325000       28000    Petrol\n",
       "3    Ford EcoSport Titanium      Ford  2014  575000       36000    Diesel\n",
       "4                 Ford Figo      Ford  2012  175000       41000    Diesel\n",
       "..                      ...       ...   ...     ...         ...       ...\n",
       "811      Maruti Suzuki Ritz    Maruti  2011  270000       50000    Petrol\n",
       "812          Tata Indica V2      Tata  2009  110000       30000    Diesel\n",
       "813    Toyota Corolla Altis    Toyota  2009  300000      132000    Petrol\n",
       "814            Tata Zest XM      Tata  2018  260000       27000    Diesel\n",
       "815      Mahindra Quanto C8  Mahindra  2013  390000       40000    Diesel\n",
       "\n",
       "[816 rows x 6 columns]"
      ]
     },
     "execution_count": 13,
     "metadata": {},
     "output_type": "execute_result"
    }
   ],
   "source": [
    "ds.head(1000)"
   ]
  },
  {
   "cell_type": "code",
   "execution_count": 14,
   "id": "72837a2a",
   "metadata": {},
   "outputs": [
    {
     "data": {
      "text/html": [
       "<div>\n",
       "<style scoped>\n",
       "    .dataframe tbody tr th:only-of-type {\n",
       "        vertical-align: middle;\n",
       "    }\n",
       "\n",
       "    .dataframe tbody tr th {\n",
       "        vertical-align: top;\n",
       "    }\n",
       "\n",
       "    .dataframe thead th {\n",
       "        text-align: right;\n",
       "    }\n",
       "</style>\n",
       "<table border=\"1\" class=\"dataframe\">\n",
       "  <thead>\n",
       "    <tr style=\"text-align: right;\">\n",
       "      <th></th>\n",
       "      <th>year</th>\n",
       "      <th>Price</th>\n",
       "      <th>kms_driven</th>\n",
       "    </tr>\n",
       "  </thead>\n",
       "  <tbody>\n",
       "    <tr>\n",
       "      <th>count</th>\n",
       "      <td>816.000000</td>\n",
       "      <td>8.160000e+02</td>\n",
       "      <td>816.000000</td>\n",
       "    </tr>\n",
       "    <tr>\n",
       "      <th>mean</th>\n",
       "      <td>2012.444853</td>\n",
       "      <td>4.117176e+05</td>\n",
       "      <td>46275.531863</td>\n",
       "    </tr>\n",
       "    <tr>\n",
       "      <th>std</th>\n",
       "      <td>4.002992</td>\n",
       "      <td>4.751844e+05</td>\n",
       "      <td>34297.428044</td>\n",
       "    </tr>\n",
       "    <tr>\n",
       "      <th>min</th>\n",
       "      <td>1995.000000</td>\n",
       "      <td>3.000000e+04</td>\n",
       "      <td>0.000000</td>\n",
       "    </tr>\n",
       "    <tr>\n",
       "      <th>25%</th>\n",
       "      <td>2010.000000</td>\n",
       "      <td>1.750000e+05</td>\n",
       "      <td>27000.000000</td>\n",
       "    </tr>\n",
       "    <tr>\n",
       "      <th>50%</th>\n",
       "      <td>2013.000000</td>\n",
       "      <td>2.999990e+05</td>\n",
       "      <td>41000.000000</td>\n",
       "    </tr>\n",
       "    <tr>\n",
       "      <th>75%</th>\n",
       "      <td>2015.000000</td>\n",
       "      <td>4.912500e+05</td>\n",
       "      <td>56818.500000</td>\n",
       "    </tr>\n",
       "    <tr>\n",
       "      <th>max</th>\n",
       "      <td>2019.000000</td>\n",
       "      <td>8.500003e+06</td>\n",
       "      <td>400000.000000</td>\n",
       "    </tr>\n",
       "  </tbody>\n",
       "</table>\n",
       "</div>"
      ],
      "text/plain": [
       "              year         Price     kms_driven\n",
       "count   816.000000  8.160000e+02     816.000000\n",
       "mean   2012.444853  4.117176e+05   46275.531863\n",
       "std       4.002992  4.751844e+05   34297.428044\n",
       "min    1995.000000  3.000000e+04       0.000000\n",
       "25%    2010.000000  1.750000e+05   27000.000000\n",
       "50%    2013.000000  2.999990e+05   41000.000000\n",
       "75%    2015.000000  4.912500e+05   56818.500000\n",
       "max    2019.000000  8.500003e+06  400000.000000"
      ]
     },
     "execution_count": 14,
     "metadata": {},
     "output_type": "execute_result"
    }
   ],
   "source": [
    "ds.describe()"
   ]
  },
  {
   "cell_type": "code",
   "execution_count": 15,
   "id": "67e21357",
   "metadata": {},
   "outputs": [
    {
     "data": {
      "text/plain": [
       "{'whiskers': [<matplotlib.lines.Line2D at 0x2aaf2ddb850>,\n",
       "  <matplotlib.lines.Line2D at 0x2aaf2ddbb20>],\n",
       " 'caps': [<matplotlib.lines.Line2D at 0x2aaf2ddbeb0>,\n",
       "  <matplotlib.lines.Line2D at 0x2aaf349a100>],\n",
       " 'boxes': [<matplotlib.lines.Line2D at 0x2aaf2ddb6a0>],\n",
       " 'medians': [<matplotlib.lines.Line2D at 0x2aaf349a3d0>],\n",
       " 'fliers': [<matplotlib.lines.Line2D at 0x2aaf349a6a0>],\n",
       " 'means': []}"
      ]
     },
     "execution_count": 15,
     "metadata": {},
     "output_type": "execute_result"
    },
    {
     "data": {
      "image/png": "[encoded data removed]",
      "text/plain": [
       "<Figure size 432x288 with 1 Axes>"
      ]
     },
     "metadata": {
      "needs_background": "light"
     },
     "output_type": "display_data"
    }
   ],
   "source": [
    "plt.boxplot(ds['Price'],vert=False)"
   ]
  },
  {
   "cell_type": "markdown",
   "id": "d5dd64ad",
   "metadata": {},
   "source": [
    "Here we can see that the value above 8x10^6 is basically an outlier, so removing it.\n"
   ]
  },
  {
   "cell_type": "code",
   "execution_count": 16,
   "id": "68644fd7",
   "metadata": {
    "scrolled": true
   },
   "outputs": [
    {
     "data": {
      "text/plain": [
       "{'whiskers': [<matplotlib.lines.Line2D at 0x2aaf3512b50>,\n",
       "  <matplotlib.lines.Line2D at 0x2aaf3512e20>],\n",
       " 'caps': [<matplotlib.lines.Line2D at 0x2aaf3522130>,\n",
       "  <matplotlib.lines.Line2D at 0x2aaf3522400>],\n",
       " 'boxes': [<matplotlib.lines.Line2D at 0x2aaf3512880>],\n",
       " 'medians': [<matplotlib.lines.Line2D at 0x2aaf3522700>],\n",
       " 'fliers': [<matplotlib.lines.Line2D at 0x2aaf35229d0>],\n",
       " 'means': []}"
      ]
     },
     "execution_count": 16,
     "metadata": {},
     "output_type": "execute_result"
    },
    {
     "data": {
      "image/png": "[encoded data removed]",
      "text/plain": [
       "<Figure size 432x288 with 1 Axes>"
      ]
     },
     "metadata": {
      "needs_background": "light"
     },
     "output_type": "display_data"
    }
   ],
   "source": [
    "plt.boxplot(ds['kms_driven'],vert=False)"
   ]
  },
  {
   "cell_type": "markdown",
   "id": "e2f47230",
   "metadata": {},
   "source": [
    "Outlier detected again"
   ]
  },
  {
   "cell_type": "code",
   "execution_count": 17,
   "id": "3dc272d0",
   "metadata": {},
   "outputs": [],
   "source": [
    "ds=ds[ds['Price']<7e6]\n",
    "ds=ds[ds['kms_driven']<350000].reset_index(drop=True)"
   ]
  },
  {
   "cell_type": "code",
   "execution_count": 18,
   "id": "fe2185d0",
   "metadata": {},
   "outputs": [
    {
     "data": {
      "text/html": [
       "<div>\n",
       "<style scoped>\n",
       "    .dataframe tbody tr th:only-of-type {\n",
       "        vertical-align: middle;\n",
       "    }\n",
       "\n",
       "    .dataframe tbody tr th {\n",
       "        vertical-align: top;\n",
       "    }\n",
       "\n",
       "    .dataframe thead th {\n",
       "        text-align: right;\n",
       "    }\n",
       "</style>\n",
       "<table border=\"1\" class=\"dataframe\">\n",
       "  <thead>\n",
       "    <tr style=\"text-align: right;\">\n",
       "      <th></th>\n",
       "      <th>name</th>\n",
       "      <th>company</th>\n",
       "      <th>year</th>\n",
       "      <th>Price</th>\n",
       "      <th>kms_driven</th>\n",
       "      <th>fuel_type</th>\n",
       "    </tr>\n",
       "  </thead>\n",
       "  <tbody>\n",
       "    <tr>\n",
       "      <th>0</th>\n",
       "      <td>Hyundai Santro Xing</td>\n",
       "      <td>Hyundai</td>\n",
       "      <td>2007</td>\n",
       "      <td>80000</td>\n",
       "      <td>45000</td>\n",
       "      <td>Petrol</td>\n",
       "    </tr>\n",
       "    <tr>\n",
       "      <th>1</th>\n",
       "      <td>Mahindra Jeep CL550</td>\n",
       "      <td>Mahindra</td>\n",
       "      <td>2006</td>\n",
       "      <td>425000</td>\n",
       "      <td>40</td>\n",
       "      <td>Diesel</td>\n",
       "    </tr>\n",
       "    <tr>\n",
       "      <th>2</th>\n",
       "      <td>Hyundai Grand i10</td>\n",
       "      <td>Hyundai</td>\n",
       "      <td>2014</td>\n",
       "      <td>325000</td>\n",
       "      <td>28000</td>\n",
       "      <td>Petrol</td>\n",
       "    </tr>\n",
       "    <tr>\n",
       "      <th>3</th>\n",
       "      <td>Ford EcoSport Titanium</td>\n",
       "      <td>Ford</td>\n",
       "      <td>2014</td>\n",
       "      <td>575000</td>\n",
       "      <td>36000</td>\n",
       "      <td>Diesel</td>\n",
       "    </tr>\n",
       "    <tr>\n",
       "      <th>4</th>\n",
       "      <td>Ford Figo</td>\n",
       "      <td>Ford</td>\n",
       "      <td>2012</td>\n",
       "      <td>175000</td>\n",
       "      <td>41000</td>\n",
       "      <td>Diesel</td>\n",
       "    </tr>\n",
       "    <tr>\n",
       "      <th>...</th>\n",
       "      <td>...</td>\n",
       "      <td>...</td>\n",
       "      <td>...</td>\n",
       "      <td>...</td>\n",
       "      <td>...</td>\n",
       "      <td>...</td>\n",
       "    </tr>\n",
       "    <tr>\n",
       "      <th>809</th>\n",
       "      <td>Maruti Suzuki Ritz</td>\n",
       "      <td>Maruti</td>\n",
       "      <td>2011</td>\n",
       "      <td>270000</td>\n",
       "      <td>50000</td>\n",
       "      <td>Petrol</td>\n",
       "    </tr>\n",
       "    <tr>\n",
       "      <th>810</th>\n",
       "      <td>Tata Indica V2</td>\n",
       "      <td>Tata</td>\n",
       "      <td>2009</td>\n",
       "      <td>110000</td>\n",
       "      <td>30000</td>\n",
       "      <td>Diesel</td>\n",
       "    </tr>\n",
       "    <tr>\n",
       "      <th>811</th>\n",
       "      <td>Toyota Corolla Altis</td>\n",
       "      <td>Toyota</td>\n",
       "      <td>2009</td>\n",
       "      <td>300000</td>\n",
       "      <td>132000</td>\n",
       "      <td>Petrol</td>\n",
       "    </tr>\n",
       "    <tr>\n",
       "      <th>812</th>\n",
       "      <td>Tata Zest XM</td>\n",
       "      <td>Tata</td>\n",
       "      <td>2018</td>\n",
       "      <td>260000</td>\n",
       "      <td>27000</td>\n",
       "      <td>Diesel</td>\n",
       "    </tr>\n",
       "    <tr>\n",
       "      <th>813</th>\n",
       "      <td>Mahindra Quanto C8</td>\n",
       "      <td>Mahindra</td>\n",
       "      <td>2013</td>\n",
       "      <td>390000</td>\n",
       "      <td>40000</td>\n",
       "      <td>Diesel</td>\n",
       "    </tr>\n",
       "  </tbody>\n",
       "</table>\n",
       "<p>814 rows × 6 columns</p>\n",
       "</div>"
      ],
      "text/plain": [
       "                       name   company  year   Price  kms_driven fuel_type\n",
       "0       Hyundai Santro Xing   Hyundai  2007   80000       45000    Petrol\n",
       "1       Mahindra Jeep CL550  Mahindra  2006  425000          40    Diesel\n",
       "2         Hyundai Grand i10   Hyundai  2014  325000       28000    Petrol\n",
       "3    Ford EcoSport Titanium      Ford  2014  575000       36000    Diesel\n",
       "4                 Ford Figo      Ford  2012  175000       41000    Diesel\n",
       "..                      ...       ...   ...     ...         ...       ...\n",
       "809      Maruti Suzuki Ritz    Maruti  2011  270000       50000    Petrol\n",
       "810          Tata Indica V2      Tata  2009  110000       30000    Diesel\n",
       "811    Toyota Corolla Altis    Toyota  2009  300000      132000    Petrol\n",
       "812            Tata Zest XM      Tata  2018  260000       27000    Diesel\n",
       "813      Mahindra Quanto C8  Mahindra  2013  390000       40000    Diesel\n",
       "\n",
       "[814 rows x 6 columns]"
      ]
     },
     "execution_count": 18,
     "metadata": {},
     "output_type": "execute_result"
    }
   ],
   "source": [
    "ds.head(1000)"
   ]
  },
  {
   "cell_type": "code",
   "execution_count": 19,
   "id": "0fe8ecad",
   "metadata": {
    "scrolled": true
   },
   "outputs": [
    {
     "data": {
      "text/plain": [
       "{'whiskers': [<matplotlib.lines.Line2D at 0x2aaf3588ac0>,\n",
       "  <matplotlib.lines.Line2D at 0x2aaf3588d90>],\n",
       " 'caps': [<matplotlib.lines.Line2D at 0x2aaf35970a0>,\n",
       "  <matplotlib.lines.Line2D at 0x2aaf3597370>],\n",
       " 'boxes': [<matplotlib.lines.Line2D at 0x2aaf35887f0>],\n",
       " 'medians': [<matplotlib.lines.Line2D at 0x2aaf3597640>],\n",
       " 'fliers': [<matplotlib.lines.Line2D at 0x2aaf3597910>],\n",
       " 'means': []}"
      ]
     },
     "execution_count": 19,
     "metadata": {},
     "output_type": "execute_result"
    },
    {
     "data": {
      "image/png": "[encoded data removed]",
      "text/plain": [
       "<Figure size 432x288 with 1 Axes>"
      ]
     },
     "metadata": {
      "needs_background": "light"
     },
     "output_type": "display_data"
    }
   ],
   "source": [
    "plt.boxplot(ds['Price'],vert=False)\n"
   ]
  },
  {
   "cell_type": "code",
   "execution_count": 20,
   "id": "4bfb1c5c",
   "metadata": {},
   "outputs": [
    {
     "data": {
      "text/plain": [
       "{'whiskers': [<matplotlib.lines.Line2D at 0x2aaf35f3c10>,\n",
       "  <matplotlib.lines.Line2D at 0x2aaf35f3ee0>],\n",
       " 'caps': [<matplotlib.lines.Line2D at 0x2aaf36001f0>,\n",
       "  <matplotlib.lines.Line2D at 0x2aaf36004c0>],\n",
       " 'boxes': [<matplotlib.lines.Line2D at 0x2aaf35f3940>],\n",
       " 'medians': [<matplotlib.lines.Line2D at 0x2aaf3600790>],\n",
       " 'fliers': [<matplotlib.lines.Line2D at 0x2aaf3600a60>],\n",
       " 'means': []}"
      ]
     },
     "execution_count": 20,
     "metadata": {},
     "output_type": "execute_result"
    },
    {
     "data": {
      "image/png": "[encoded data removed]",
      "text/plain": [
       "<Figure size 432x288 with 1 Axes>"
      ]
     },
     "metadata": {
      "needs_background": "light"
     },
     "output_type": "display_data"
    }
   ],
   "source": [
    "plt.boxplot(ds['kms_driven'],vert=False)"
   ]
  },
  {
   "cell_type": "code",
   "execution_count": 21,
   "id": "755601e4",
   "metadata": {},
   "outputs": [],
   "source": [
    "ds.to_csv('Cleaned car.csv')"
   ]
  },
  {
   "cell_type": "markdown",
   "id": "60c41b9a",
   "metadata": {},
   "source": [
    "# Model Building"
   ]
  },
  {
   "cell_type": "code",
   "execution_count": 22,
   "id": "6155f2b0",
   "metadata": {},
   "outputs": [],
   "source": [
    "# dividing dependent and independent features\n",
    "X = ds.drop(columns='Price')\n",
    "Y = ds['Price']"
   ]
  },
  {
   "cell_type": "code",
   "execution_count": 23,
   "id": "4efa8bfd",
   "metadata": {},
   "outputs": [
    {
     "data": {
      "text/html": [
       "<div>\n",
       "<style scoped>\n",
       "    .dataframe tbody tr th:only-of-type {\n",
       "        vertical-align: middle;\n",
       "    }\n",
       "\n",
       "    .dataframe tbody tr th {\n",
       "        vertical-align: top;\n",
       "    }\n",
       "\n",
       "    .dataframe thead th {\n",
       "        text-align: right;\n",
       "    }\n",
       "</style>\n",
       "<table border=\"1\" class=\"dataframe\">\n",
       "  <thead>\n",
       "    <tr style=\"text-align: right;\">\n",
       "      <th></th>\n",
       "      <th>name</th>\n",
       "      <th>company</th>\n",
       "      <th>year</th>\n",
       "      <th>kms_driven</th>\n",
       "      <th>fuel_type</th>\n",
       "    </tr>\n",
       "  </thead>\n",
       "  <tbody>\n",
       "    <tr>\n",
       "      <th>0</th>\n",
       "      <td>Hyundai Santro Xing</td>\n",
       "      <td>Hyundai</td>\n",
       "      <td>2007</td>\n",
       "      <td>45000</td>\n",
       "      <td>Petrol</td>\n",
       "    </tr>\n",
       "    <tr>\n",
       "      <th>1</th>\n",
       "      <td>Mahindra Jeep CL550</td>\n",
       "      <td>Mahindra</td>\n",
       "      <td>2006</td>\n",
       "      <td>40</td>\n",
       "      <td>Diesel</td>\n",
       "    </tr>\n",
       "    <tr>\n",
       "      <th>2</th>\n",
       "      <td>Hyundai Grand i10</td>\n",
       "      <td>Hyundai</td>\n",
       "      <td>2014</td>\n",
       "      <td>28000</td>\n",
       "      <td>Petrol</td>\n",
       "    </tr>\n",
       "    <tr>\n",
       "      <th>3</th>\n",
       "      <td>Ford EcoSport Titanium</td>\n",
       "      <td>Ford</td>\n",
       "      <td>2014</td>\n",
       "      <td>36000</td>\n",
       "      <td>Diesel</td>\n",
       "    </tr>\n",
       "    <tr>\n",
       "      <th>4</th>\n",
       "      <td>Ford Figo</td>\n",
       "      <td>Ford</td>\n",
       "      <td>2012</td>\n",
       "      <td>41000</td>\n",
       "      <td>Diesel</td>\n",
       "    </tr>\n",
       "    <tr>\n",
       "      <th>5</th>\n",
       "      <td>Hyundai Eon</td>\n",
       "      <td>Hyundai</td>\n",
       "      <td>2013</td>\n",
       "      <td>25000</td>\n",
       "      <td>Petrol</td>\n",
       "    </tr>\n",
       "    <tr>\n",
       "      <th>6</th>\n",
       "      <td>Ford EcoSport Ambiente</td>\n",
       "      <td>Ford</td>\n",
       "      <td>2016</td>\n",
       "      <td>24530</td>\n",
       "      <td>Diesel</td>\n",
       "    </tr>\n",
       "    <tr>\n",
       "      <th>7</th>\n",
       "      <td>Maruti Suzuki Alto</td>\n",
       "      <td>Maruti</td>\n",
       "      <td>2015</td>\n",
       "      <td>60000</td>\n",
       "      <td>Petrol</td>\n",
       "    </tr>\n",
       "    <tr>\n",
       "      <th>8</th>\n",
       "      <td>Skoda Fabia Classic</td>\n",
       "      <td>Skoda</td>\n",
       "      <td>2010</td>\n",
       "      <td>60000</td>\n",
       "      <td>Petrol</td>\n",
       "    </tr>\n",
       "    <tr>\n",
       "      <th>9</th>\n",
       "      <td>Maruti Suzuki Stingray</td>\n",
       "      <td>Maruti</td>\n",
       "      <td>2015</td>\n",
       "      <td>30000</td>\n",
       "      <td>Petrol</td>\n",
       "    </tr>\n",
       "  </tbody>\n",
       "</table>\n",
       "</div>"
      ],
      "text/plain": [
       "                     name   company  year  kms_driven fuel_type\n",
       "0     Hyundai Santro Xing   Hyundai  2007       45000    Petrol\n",
       "1     Mahindra Jeep CL550  Mahindra  2006          40    Diesel\n",
       "2       Hyundai Grand i10   Hyundai  2014       28000    Petrol\n",
       "3  Ford EcoSport Titanium      Ford  2014       36000    Diesel\n",
       "4               Ford Figo      Ford  2012       41000    Diesel\n",
       "5             Hyundai Eon   Hyundai  2013       25000    Petrol\n",
       "6  Ford EcoSport Ambiente      Ford  2016       24530    Diesel\n",
       "7      Maruti Suzuki Alto    Maruti  2015       60000    Petrol\n",
       "8     Skoda Fabia Classic     Skoda  2010       60000    Petrol\n",
       "9  Maruti Suzuki Stingray    Maruti  2015       30000    Petrol"
      ]
     },
     "execution_count": 23,
     "metadata": {},
     "output_type": "execute_result"
    }
   ],
   "source": [
    "X.head(10)"
   ]
  },
  {
   "cell_type": "code",
   "execution_count": 24,
   "id": "cae754e7",
   "metadata": {},
   "outputs": [],
   "source": [
    "from sklearn.model_selection import train_test_split\n",
    "xtrain,xtest,ytrain,ytest=train_test_split(X,Y,test_size=0.2,random_state=0)"
   ]
  },
  {
   "cell_type": "code",
   "execution_count": 25,
   "id": "15b13c34",
   "metadata": {},
   "outputs": [],
   "source": [
    "from sklearn.linear_model import LinearRegression\n",
    "from sklearn.metrics import r2_score\n",
    "from sklearn.preprocessing import OneHotEncoder\n",
    "from sklearn.compose import make_column_transformer\n",
    "from sklearn.pipeline import make_pipeline\n",
    "# from sklearn.impute import SimpleImputer\n",
    "## SimpleImputer is used for removing Nan values"
   ]
  },
  {
   "cell_type": "code",
   "execution_count": 26,
   "id": "90088b06",
   "metadata": {},
   "outputs": [
    {
     "data": {
      "text/plain": [
       "OneHotEncoder()"
      ]
     },
     "execution_count": 26,
     "metadata": {},
     "output_type": "execute_result"
    }
   ],
   "source": [
    "one=OneHotEncoder()\n",
    "lr=LinearRegression()\n",
    "one.fit(X[['name','company','fuel_type']])"
   ]
  },
  {
   "cell_type": "code",
   "execution_count": 27,
   "id": "63aafc5a",
   "metadata": {
    "scrolled": true
   },
   "outputs": [
    {
     "data": {
      "text/plain": [
       "[array(['Audi A3 Cabriolet', 'Audi A4 1.8', 'Audi A4 2.0', 'Audi A6 2.0',\n",
       "        'Audi A8', 'Audi Q3 2.0', 'Audi Q5 2.0', 'Audi Q7', 'BMW 3 Series',\n",
       "        'BMW 5 Series', 'BMW 7 Series', 'BMW X1', 'BMW X1 sDrive20d',\n",
       "        'BMW X1 xDrive20d', 'Chevrolet Beat', 'Chevrolet Beat Diesel',\n",
       "        'Chevrolet Beat LS', 'Chevrolet Beat LT', 'Chevrolet Beat PS',\n",
       "        'Chevrolet Cruze LTZ', 'Chevrolet Enjoy', 'Chevrolet Enjoy 1.4',\n",
       "        'Chevrolet Sail 1.2', 'Chevrolet Sail UVA', 'Chevrolet Spark',\n",
       "        'Chevrolet Spark 1.0', 'Chevrolet Spark LS', 'Chevrolet Spark LT',\n",
       "        'Chevrolet Tavera LS', 'Chevrolet Tavera Neo', 'Datsun GO T',\n",
       "        'Datsun Go Plus', 'Datsun Redi GO', 'Fiat Linea Emotion',\n",
       "        'Fiat Petra ELX', 'Fiat Punto Emotion', 'Force Motors Force',\n",
       "        'Force Motors One', 'Ford EcoSport', 'Ford EcoSport Ambiente',\n",
       "        'Ford EcoSport Titanium', 'Ford EcoSport Trend',\n",
       "        'Ford Endeavor 4x4', 'Ford Fiesta', 'Ford Fiesta SXi', 'Ford Figo',\n",
       "        'Ford Figo Diesel', 'Ford Figo Duratorq', 'Ford Figo Petrol',\n",
       "        'Ford Fusion 1.4', 'Ford Ikon 1.3', 'Ford Ikon 1.6',\n",
       "        'Hindustan Motors Ambassador', 'Honda Accord', 'Honda Amaze',\n",
       "        'Honda Amaze 1.2', 'Honda Amaze 1.5', 'Honda Brio', 'Honda Brio V',\n",
       "        'Honda Brio VX', 'Honda City', 'Honda City 1.5', 'Honda City SV',\n",
       "        'Honda City VX', 'Honda City ZX', 'Honda Jazz S', 'Honda Jazz VX',\n",
       "        'Honda Mobilio', 'Honda Mobilio S', 'Honda WR V', 'Hyundai Accent',\n",
       "        'Hyundai Accent Executive', 'Hyundai Accent GLE',\n",
       "        'Hyundai Accent GLX', 'Hyundai Creta', 'Hyundai Creta 1.6',\n",
       "        'Hyundai Elantra 1.8', 'Hyundai Elantra SX', 'Hyundai Elite i20',\n",
       "        'Hyundai Eon', 'Hyundai Eon D', 'Hyundai Eon Era',\n",
       "        'Hyundai Eon Magna', 'Hyundai Eon Sportz', 'Hyundai Fluidic Verna',\n",
       "        'Hyundai Getz', 'Hyundai Getz GLE', 'Hyundai Getz Prime',\n",
       "        'Hyundai Grand i10', 'Hyundai Santro', 'Hyundai Santro AE',\n",
       "        'Hyundai Santro Xing', 'Hyundai Sonata Transform', 'Hyundai Verna',\n",
       "        'Hyundai Verna 1.4', 'Hyundai Verna 1.6', 'Hyundai Verna Fluidic',\n",
       "        'Hyundai Verna Transform', 'Hyundai Verna VGT',\n",
       "        'Hyundai Xcent Base', 'Hyundai Xcent SX', 'Hyundai i10',\n",
       "        'Hyundai i10 Era', 'Hyundai i10 Magna', 'Hyundai i10 Sportz',\n",
       "        'Hyundai i20', 'Hyundai i20 Active', 'Hyundai i20 Asta',\n",
       "        'Hyundai i20 Magna', 'Hyundai i20 Select', 'Hyundai i20 Sportz',\n",
       "        'Jaguar XE XE', 'Jaguar XF 2.2', 'Jeep Wrangler Unlimited',\n",
       "        'Land Rover Freelander', 'Mahindra Bolero DI',\n",
       "        'Mahindra Bolero Power', 'Mahindra Bolero SLE',\n",
       "        'Mahindra Jeep CL550', 'Mahindra Jeep MM', 'Mahindra KUV100',\n",
       "        'Mahindra KUV100 K8', 'Mahindra Logan', 'Mahindra Logan Diesel',\n",
       "        'Mahindra Quanto C4', 'Mahindra Quanto C8', 'Mahindra Scorpio',\n",
       "        'Mahindra Scorpio 2.6', 'Mahindra Scorpio LX',\n",
       "        'Mahindra Scorpio S10', 'Mahindra Scorpio S4',\n",
       "        'Mahindra Scorpio SLE', 'Mahindra Scorpio SLX',\n",
       "        'Mahindra Scorpio VLX', 'Mahindra Scorpio Vlx',\n",
       "        'Mahindra Scorpio W', 'Mahindra TUV300 T4', 'Mahindra TUV300 T8',\n",
       "        'Mahindra Thar CRDe', 'Mahindra XUV500', 'Mahindra XUV500 W10',\n",
       "        'Mahindra XUV500 W6', 'Mahindra XUV500 W8', 'Mahindra Xylo D2',\n",
       "        'Mahindra Xylo E4', 'Mahindra Xylo E8', 'Maruti Suzuki 800',\n",
       "        'Maruti Suzuki A', 'Maruti Suzuki Alto', 'Maruti Suzuki Baleno',\n",
       "        'Maruti Suzuki Celerio', 'Maruti Suzuki Ciaz',\n",
       "        'Maruti Suzuki Dzire', 'Maruti Suzuki Eeco',\n",
       "        'Maruti Suzuki Ertiga', 'Maruti Suzuki Esteem',\n",
       "        'Maruti Suzuki Estilo', 'Maruti Suzuki Maruti',\n",
       "        'Maruti Suzuki Omni', 'Maruti Suzuki Ritz', 'Maruti Suzuki S',\n",
       "        'Maruti Suzuki SX4', 'Maruti Suzuki Stingray',\n",
       "        'Maruti Suzuki Swift', 'Maruti Suzuki Versa',\n",
       "        'Maruti Suzuki Vitara', 'Maruti Suzuki Wagon', 'Maruti Suzuki Zen',\n",
       "        'Mercedes Benz A', 'Mercedes Benz B', 'Mercedes Benz C',\n",
       "        'Mercedes Benz GLA', 'Mini Cooper S', 'Mitsubishi Lancer 1.8',\n",
       "        'Mitsubishi Pajero Sport', 'Nissan Micra XL', 'Nissan Micra XV',\n",
       "        'Nissan Sunny', 'Nissan Sunny XL', 'Nissan Terrano XL',\n",
       "        'Nissan X Trail', 'Renault Duster', 'Renault Duster 110',\n",
       "        'Renault Duster 110PS', 'Renault Duster 85', 'Renault Duster 85PS',\n",
       "        'Renault Duster RxL', 'Renault Kwid', 'Renault Kwid 1.0',\n",
       "        'Renault Kwid RXT', 'Renault Lodgy 85', 'Renault Scala RxL',\n",
       "        'Skoda Fabia', 'Skoda Fabia 1.2L', 'Skoda Fabia Classic',\n",
       "        'Skoda Laura', 'Skoda Octavia Classic', 'Skoda Rapid Elegance',\n",
       "        'Skoda Superb 1.8', 'Skoda Yeti Ambition', 'Tata Aria Pleasure',\n",
       "        'Tata Bolt XM', 'Tata Indica', 'Tata Indica V2', 'Tata Indica eV2',\n",
       "        'Tata Indigo CS', 'Tata Indigo LS', 'Tata Indigo LX',\n",
       "        'Tata Indigo Marina', 'Tata Indigo eCS', 'Tata Manza',\n",
       "        'Tata Manza Aqua', 'Tata Manza Aura', 'Tata Manza ELAN',\n",
       "        'Tata Nano', 'Tata Nano Cx', 'Tata Nano GenX', 'Tata Nano LX',\n",
       "        'Tata Nano Lx', 'Tata Sumo Gold', 'Tata Sumo Grande',\n",
       "        'Tata Sumo Victa', 'Tata Tiago Revotorq', 'Tata Tiago Revotron',\n",
       "        'Tata Tigor Revotron', 'Tata Venture EX', 'Tata Vista Quadrajet',\n",
       "        'Tata Zest Quadrajet', 'Tata Zest XE', 'Tata Zest XM',\n",
       "        'Toyota Corolla', 'Toyota Corolla Altis', 'Toyota Corolla H2',\n",
       "        'Toyota Etios', 'Toyota Etios G', 'Toyota Etios GD',\n",
       "        'Toyota Etios Liva', 'Toyota Fortuner', 'Toyota Fortuner 3.0',\n",
       "        'Toyota Innova 2.0', 'Toyota Innova 2.5', 'Toyota Qualis',\n",
       "        'Volkswagen Jetta Comfortline', 'Volkswagen Jetta Highline',\n",
       "        'Volkswagen Passat Diesel', 'Volkswagen Polo',\n",
       "        'Volkswagen Polo Comfortline', 'Volkswagen Polo Highline',\n",
       "        'Volkswagen Polo Highline1.2L', 'Volkswagen Polo Trendline',\n",
       "        'Volkswagen Vento Comfortline', 'Volkswagen Vento Highline',\n",
       "        'Volkswagen Vento Konekt', 'Volvo S80 Summum'], dtype=object),\n",
       " array(['Audi', 'BMW', 'Chevrolet', 'Datsun', 'Fiat', 'Force', 'Ford',\n",
       "        'Hindustan', 'Honda', 'Hyundai', 'Jaguar', 'Jeep', 'Land',\n",
       "        'Mahindra', 'Maruti', 'Mercedes', 'Mini', 'Mitsubishi', 'Nissan',\n",
       "        'Renault', 'Skoda', 'Tata', 'Toyota', 'Volkswagen', 'Volvo'],\n",
       "       dtype=object),\n",
       " array(['Diesel', 'LPG', 'Petrol'], dtype=object)]"
      ]
     },
     "execution_count": 27,
     "metadata": {},
     "output_type": "execute_result"
    }
   ],
   "source": [
    "one.categories_"
   ]
  },
  {
   "cell_type": "code",
   "execution_count": 28,
   "id": "20ddd83e",
   "metadata": {},
   "outputs": [],
   "source": [
    "column_trans = make_column_transformer((OneHotEncoder(categories=one.categories_),['name','company','fuel_type']),remainder='passthrough')"
   ]
  },
  {
   "cell_type": "code",
   "execution_count": 29,
   "id": "cce25425",
   "metadata": {},
   "outputs": [],
   "source": [
    "pipe=make_pipeline(column_trans,lr)"
   ]
  },
  {
   "cell_type": "code",
   "execution_count": 30,
   "id": "ff671ddf",
   "metadata": {
    "scrolled": true
   },
   "outputs": [
    {
     "data": {
      "text/plain": [
       "Pipeline(steps=[('columntransformer',\n",
       "                 ColumnTransformer(remainder='passthrough',\n",
       "                                   transformers=[('onehotencoder',\n",
       "                                                  OneHotEncoder(categories=[array(['Audi A3 Cabriolet', 'Audi A4 1.8', 'Audi A4 2.0', 'Audi A6 2.0',\n",
       "       'Audi A8', 'Audi Q3 2.0', 'Audi Q5 2.0', 'Audi Q7', 'BMW 3 Series',\n",
       "       'BMW 5 Series', 'BMW 7 Series', 'BMW X1', 'BMW X1 sDrive20d',\n",
       "       'BMW X1 xDrive20d', 'Chevrolet Beat', 'Chevrolet Beat...\n",
       "                                                                            array(['Audi', 'BMW', 'Chevrolet', 'Datsun', 'Fiat', 'Force', 'Ford',\n",
       "       'Hindustan', 'Honda', 'Hyundai', 'Jaguar', 'Jeep', 'Land',\n",
       "       'Mahindra', 'Maruti', 'Mercedes', 'Mini', 'Mitsubishi', 'Nissan',\n",
       "       'Renault', 'Skoda', 'Tata', 'Toyota', 'Volkswagen', 'Volvo'],\n",
       "      dtype=object),\n",
       "                                                                            array(['Diesel', 'LPG', 'Petrol'], dtype=object)]),\n",
       "                                                  ['name', 'company',\n",
       "                                                   'fuel_type'])])),\n",
       "                ('linearregression', LinearRegression())])"
      ]
     },
     "execution_count": 30,
     "metadata": {},
     "output_type": "execute_result"
    }
   ],
   "source": [
    "pipe.fit(xtrain,ytrain)\n",
    "# now pipeline will automatically transform the raw data first and then apply regression on it."
   ]
  },
  {
   "cell_type": "code",
   "execution_count": 31,
   "id": "a132ed7c",
   "metadata": {},
   "outputs": [],
   "source": [
    "ypredict=pipe.predict(xtest)"
   ]
  },
  {
   "cell_type": "code",
   "execution_count": 32,
   "id": "c6d768ef",
   "metadata": {
    "scrolled": true
   },
   "outputs": [
    {
     "data": {
      "text/plain": [
       "0.7615177372386083"
      ]
     },
     "execution_count": 32,
     "metadata": {},
     "output_type": "execute_result"
    }
   ],
   "source": [
    "r2_score(ytest,ypredict)"
   ]
  },
  {
   "cell_type": "code",
   "execution_count": 33,
   "id": "58f02e7e",
   "metadata": {},
   "outputs": [],
   "source": [
    "#now checking different train test split and choosing for one that gives us max r2 score\n",
    "scores=[]\n",
    "for i in range(1000):\n",
    "    xtrain,xtest,ytrain,ytest=train_test_split(X,Y,test_size=0.2,random_state=i)\n",
    "    lr=LinearRegression()\n",
    "    pipe=make_pipeline(column_trans,lr)\n",
    "    pipe.fit(xtrain,ytrain)\n",
    "    ypredict=pipe.predict(xtest)\n",
    "    scores.append(r2_score(ytest,ypredict))"
   ]
  },
  {
   "cell_type": "code",
   "execution_count": 34,
   "id": "3e8bdcd4",
   "metadata": {},
   "outputs": [
    {
     "data": {
      "text/plain": [
       "124"
      ]
     },
     "execution_count": 34,
     "metadata": {},
     "output_type": "execute_result"
    }
   ],
   "source": [
    "np.argmax(scores)"
   ]
  },
  {
   "cell_type": "code",
   "execution_count": 35,
   "id": "96676059",
   "metadata": {},
   "outputs": [
    {
     "data": {
      "text/plain": [
       "0.9040425347844676"
      ]
     },
     "execution_count": 35,
     "metadata": {},
     "output_type": "execute_result"
    }
   ],
   "source": [
    "scores[np.argmax(scores)]"
   ]
  },
  {
   "cell_type": "markdown",
   "id": "27651711",
   "metadata": {},
   "source": [
    "so we will train the model using this random state i.e., 124\n"
   ]
  },
  {
   "cell_type": "code",
   "execution_count": 36,
   "id": "368f2f58",
   "metadata": {},
   "outputs": [
    {
     "data": {
      "text/plain": [
       "0.9040425347844676"
      ]
     },
     "execution_count": 36,
     "metadata": {},
     "output_type": "execute_result"
    }
   ],
   "source": [
    "xtrain,xtest,ytrain,ytest=train_test_split(X,Y,test_size=0.2,random_state=124)\n",
    "lr=LinearRegression()\n",
    "pipe=make_pipeline(column_trans,lr)\n",
    "pipe.fit(xtrain,ytrain)\n",
    "ypredict=pipe.predict(xtest)\n",
    "r2_score(ytest,ypredict)"
   ]
  },
  {
   "cell_type": "code",
   "execution_count": 50,
   "id": "c56b96b3",
   "metadata": {
    "scrolled": true
   },
   "outputs": [
    {
     "data": {
      "text/plain": [
       "array(['Toyota Innova 2.0', 'Toyota Corolla Altis', 'Toyota Etios GD',\n",
       "       'Toyota Etios Liva', 'Toyota Innova 2.5', 'Toyota Etios',\n",
       "       'Toyota Fortuner', 'Toyota Fortuner 3.0', 'Toyota Corolla H2',\n",
       "       'Toyota Corolla', 'Toyota Etios G', 'Toyota Qualis'], dtype=object)"
      ]
     },
     "execution_count": 50,
     "metadata": {},
     "output_type": "execute_result"
    }
   ],
   "source": [
    "X.loc[X['company']=='Toyota','name'].unique()"
   ]
  },
  {
   "cell_type": "code",
   "execution_count": 49,
   "id": "40856e97",
   "metadata": {},
   "outputs": [
    {
     "data": {
      "text/plain": [
       "array([1225455.62301289])"
      ]
     },
     "execution_count": 49,
     "metadata": {},
     "output_type": "execute_result"
    }
   ],
   "source": [
    "pipe.predict(pd.DataFrame([['Toyota Fortuner','Toyota',2019,3000,'Petrol']],columns=['name', 'company', 'year', 'kms_driven', 'fuel_type']))"
   ]
  }
 ],
 "metadata": {
  "kernelspec": {
   "display_name": "Python 3 (ipykernel)",
   "language": "python",
   "name": "python3"
  },
  "language_info": {
   "codemirror_mode": {
    "name": "ipython",
    "version": 3
   },
   "file_extension": ".py",
   "mimetype": "text/x-python",
   "name": "python",
   "nbconvert_exporter": "python",
   "pygments_lexer": "ipython3",
   "version": "3.9.7"
  }
 },
 "nbformat": 4,
 "nbformat_minor": 5
}
